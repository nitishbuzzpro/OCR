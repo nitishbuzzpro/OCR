{
 "cells": [
  {
   "cell_type": "code",
   "execution_count": 6,
   "metadata": {
    "execution": {
     "iopub.execute_input": "2024-07-15T18:10:31.185554Z",
     "iopub.status.busy": "2024-07-15T18:10:31.185157Z",
     "iopub.status.idle": "2024-07-15T18:10:31.190990Z",
     "shell.execute_reply": "2024-07-15T18:10:31.189765Z",
     "shell.execute_reply.started": "2024-07-15T18:10:31.185524Z"
    }
   },
   "outputs": [],
   "source": [
    "import easyocr\n",
    "import joblib\n",
    "import pytesseract\n",
    "from PIL import Image\n",
    "import os\n",
    "import matplotlib.pyplot as plt"
   ]
  },
  {
   "cell_type": "markdown",
   "metadata": {},
   "source": [
    "## Recognizing the text from images - using easyOCR"
   ]
  },
  {
   "cell_type": "code",
   "execution_count": 7,
   "metadata": {
    "execution": {
     "iopub.execute_input": "2024-07-15T18:10:31.198605Z",
     "iopub.status.busy": "2024-07-15T18:10:31.198240Z",
     "iopub.status.idle": "2024-07-15T18:10:31.207066Z",
     "shell.execute_reply": "2024-07-15T18:10:31.205944Z",
     "shell.execute_reply.started": "2024-07-15T18:10:31.198577Z"
    }
   },
   "outputs": [],
   "source": [
    "def recognise_text_easyocr(img_path,min_confidance=0.5):\n",
    "    \n",
    "    reader = easyocr.Reader(['en','hi']) \n",
    "    text = ''\n",
    "    \n",
    "    for (bbx,txt,prob) in reader.readtext(img_path):\n",
    "        if prob > min_confidance: \n",
    "            text += ' '+txt\n",
    "    \n",
    "    text = text.strip()  #Strip the leading/trailing spaces\n",
    "    \n",
    "    file_name = os.path.splitext(os.path.basename(img_path))[0] #Extarct the file name from image path\n",
    "    output_path = '/kaggle/working/'+ file_name + '_easyocr_'+'.txt'\n",
    "    with open(output_path,'w') as file:\n",
    "        file.write(text)\n",
    "    \n",
    "    return print(f'Easyocr_output: {text}')"
   ]
  },
  {
   "cell_type": "markdown",
   "metadata": {},
   "source": [
    "## Recognizing the text from images - pytesseract"
   ]
  },
  {
   "cell_type": "code",
   "execution_count": 8,
   "metadata": {
    "execution": {
     "iopub.execute_input": "2024-07-15T18:10:31.213391Z",
     "iopub.status.busy": "2024-07-15T18:10:31.212419Z",
     "iopub.status.idle": "2024-07-15T18:10:31.222216Z",
     "shell.execute_reply": "2024-07-15T18:10:31.221197Z",
     "shell.execute_reply.started": "2024-07-15T18:10:31.213347Z"
    }
   },
   "outputs": [],
   "source": [
    "\n",
    "def recognise_text_pytesseract(img_path):\n",
    "    \n",
    "    image = Image.open(img_path)\n",
    "    \n",
    "    text = pytesseract.image_to_string(image,lang='eng+hin')\n",
    "    \n",
    "    text = text.strip()\n",
    "    \n",
    "    file_name = os.path.splitext(os.path.basename(img_path))[0] #Extarct the file name from image path\n",
    "    output_path = '/kaggle/working/'+ file_name + '_pytesseract_'+'.txt'\n",
    "    with open(output_path,'w') as file:\n",
    "        file.write(text)\n",
    "    \n",
    "    return print(f'pytesseract_output: {text}')"
   ]
  },
  {
   "cell_type": "code",
   "execution_count": null,
   "metadata": {},
   "outputs": [],
   "source": []
  },
  {
   "cell_type": "markdown",
   "metadata": {},
   "source": [
    "## Comparing the read texts from images of Easyocr and pytesseract"
   ]
  },
  {
   "cell_type": "code",
   "execution_count": 9,
   "metadata": {
    "execution": {
     "iopub.execute_input": "2024-07-15T18:10:31.225744Z",
     "iopub.status.busy": "2024-07-15T18:10:31.225291Z",
     "iopub.status.idle": "2024-07-15T18:12:30.890470Z",
     "shell.execute_reply": "2024-07-15T18:12:30.889184Z",
     "shell.execute_reply.started": "2024-07-15T18:10:31.225707Z"
    }
   },
   "outputs": [
    {
     "name": "stdout",
     "output_type": "stream",
     "text": [
      "text6.png\n",
      "Easyocr_output: जय श्री राम\n",
      "pytesseract_output: wa at aA\n",
      "\n",
      "\n",
      "text0.jpg\n",
      "Easyocr_output: MAKE TEXT STAND OUT FROM\n",
      "pytesseract_output: ““ MAKE TEXT\n",
      "STAND OUT FROM\n",
      "_. BACKGROUNDS 7? \"Se\n",
      "\n",
      "\n",
      "text4.jpg\n",
      "Easyocr_output: ISAYIT TO REMIND YOU THAT\n",
      "pytesseract_output: Mere ee A eld\n",
      "TN A Re\n",
      "De UR ELL\n",
      "SELES\n",
      "Dae\n",
      "\n",
      "all\n",
      "\n",
      "\n",
      "text8.jpg\n",
      "Easyocr_output: तीन अक्षर वालै शब्द चित्र (फोटो) तीन अक्षर वाले शब्द पदक मगर जोकर नाख़ून हिरण MatraShabd com\n",
      "pytesseract_output: Ha Haz Aer Weg\n",
      "\n",
      " \n",
      "\n",
      "faa (tated)\n",
      "\n",
      "ala oer aret a16e\n",
      "\n",
      " \n",
      "\n",
      " \n",
      "\n",
      " \n",
      "\n",
      " \n",
      "\n",
      " \n",
      "\n",
      " \n",
      "\n",
      " \n",
      "\n",
      " \n",
      "\n",
      " \n",
      "\n",
      " \n",
      "\n",
      " \n",
      "\n",
      " \n",
      "\n",
      " \n",
      "\n",
      " \n",
      "\n",
      " \n",
      "\n",
      "MatraShabd.com\n",
      "\n",
      "\n",
      "text2.jpg\n",
      "Easyocr_output: NEW MTNDSET NEW RESULTS\n",
      "pytesseract_output: \n",
      "\n",
      "\n",
      "text3.jpg\n",
      "Easyocr_output: roads in your neighborhood. Work will commence on June 3rd, as shown in the project schedule This work will require road closures at certain times throughout the project. We will be starting work work zone limits and park your car in your driveway at night, please this may be a short-term inconvenience and we hope to work together with you in a professional manner for the long-term improvement of your neighborhood.\n",
      "pytesseract_output: SHADOWING PRACTICE 08\n",
      "\n",
      "The city has contracted with Acme Construction to improve certain\n",
      "roads in your neighborhood. Work will commence on June 3rd, as\n",
      "shown in the project schedule. This work will require road closures at\n",
      "certain times throughout the project. We will be starting work\n",
      "\n",
      "at 7:00 AM and will finish around 5:00 PM. If you are within the active\n",
      "work zone limits and park your car in your driveway at night, please\n",
      "be sure to move it prior to the 7:00 AM start time. We understand that\n",
      "this may be a short-term inconvenience and we hope to work together\n",
      "with you in a professional manner for the long-term improvement of\n",
      "your neighborhood.\n",
      "\n",
      "\n",
      "text9.png\n",
      "Easyocr_output: सभी मनुष्यों को गौरव और अधिकारों की देन प्राप्त है और परस्पर उन्हें भाईचारे भाव बर्ताव\n",
      "pytesseract_output: ai Fae Re ak afteri & Aad A AST\n",
      "CAAA SAL SAAT HTT 1 TS SEK GAR SATE\n",
      "\n",
      "O12 FI @ sik RER Se USAR & wa a sala\n",
      "\n",
      "Hal afew!\n",
      "\n",
      "\n",
      "text7.png\n",
      "Easyocr_output: कार्यकरम\n",
      "pytesseract_output: \n",
      "\n",
      "\n",
      "text5.jpg\n",
      "Easyocr_output: Allusion Alliteration Allegory Analogy EVERYTHING you need to know about LANGUAGE FEATURES English Language FEATURES Anaphora Antithesis Emotive language Assonance MY ASSIGNMENT\n",
      "pytesseract_output: Allusion\n",
      "Alliteration\n",
      "\n",
      "“_ “= EVERYTHING\n",
      "\n",
      "you need to know about\n",
      "\n",
      "FEATURES\n",
      "\n",
      "Anaphora Emotive language\n",
      "\n",
      "Antithesis\n",
      "Assonance\n",
      "Q® MY Assicnmenrr HELP\n",
      "\n",
      "\n",
      "text1.jpg\n",
      "Easyocr_output: scared? good. we dont grow when we stay inside our comfort zone.\n",
      "pytesseract_output: scared? good.\n",
      "\n",
      "we don't grow\n",
      "\n",
      "when we stay\n",
      "inside our\n",
      "\n",
      "comfort zone.\n",
      "\n",
      "\n"
     ]
    }
   ],
   "source": [
    "for file in os.listdir('/kaggle/input/images'):\n",
    "    \n",
    "    path = '/kaggle/input/images' + '/' + file\n",
    "    \n",
    "    print(file)\n",
    "    recognise_text_easyocr(path)\n",
    "    recognise_text_pytesseract(path)\n",
    "    print('\\n')"
   ]
  }
 ],
 "metadata": {
  "kaggle": {
   "accelerator": "none",
   "dataSources": [
    {
     "datasetId": 5390430,
     "sourceId": 8956637,
     "sourceType": "datasetVersion"
    }
   ],
   "dockerImageVersionId": 30746,
   "isGpuEnabled": false,
   "isInternetEnabled": true,
   "language": "python",
   "sourceType": "notebook"
  },
  "kernelspec": {
   "display_name": "Python 3 (ipykernel)",
   "language": "python",
   "name": "python3"
  },
  "language_info": {
   "codemirror_mode": {
    "name": "ipython",
    "version": 3
   },
   "file_extension": ".py",
   "mimetype": "text/x-python",
   "name": "python",
   "nbconvert_exporter": "python",
   "pygments_lexer": "ipython3",
   "version": "3.12.4"
  }
 },
 "nbformat": 4,
 "nbformat_minor": 4
}
